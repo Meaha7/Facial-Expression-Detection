{
  "cells": [
    {
      "cell_type": "markdown",
      "metadata": {
        "id": "vDHoWT-Hf7Pg"
      },
      "source": [
        "Libraries"
      ],
      "id": "vDHoWT-Hf7Pg"
    },
    {
      "cell_type": "code",
      "execution_count": null,
      "metadata": {
        "id": "014da8f3"
      },
      "outputs": [],
      "source": [
        "import random \n",
        "\n",
        "import matplotlib.pyplot as plt\n",
        "import cv2\n",
        "import numpy as np\n",
        "import pandas as pd\n",
        "import os\n",
        "\n",
        "from sklearn.model_selection import KFold\n",
        "from sklearn.model_selection import cross_val_score\n",
        "from skimage.feature import hog\n",
        "\n",
        "from matplotlib import pyplot as plt\n",
        "\n",
        "from sklearn.svm import SVC\n",
        "from sklearn.model_selection import train_test_split\n",
        "from sklearn.metrics import confusion_matrix\n",
        "from sklearn.metrics import classification_report\n",
        "\n",
        "from sklearn.metrics import accuracy_score\n",
        "from sklearn.model_selection import cross_val_score\n"
      ],
      "id": "014da8f3"
    },
    {
      "cell_type": "code",
      "execution_count": null,
      "metadata": {
        "id": "M6YlfXxF9Ya7",
        "colab": {
          "base_uri": "https://localhost:8080/"
        },
        "outputId": "495f24ce-ad18-4081-ed4f-f1bdcd4dcd7f"
      },
      "outputs": [
        {
          "output_type": "stream",
          "name": "stdout",
          "text": [
            "Mounted at /content/drive\n"
          ]
        }
      ],
      "source": [
        "from google.colab import drive\n",
        "drive.mount('/content/drive')"
      ],
      "id": "M6YlfXxF9Ya7"
    },
    {
      "cell_type": "code",
      "execution_count": null,
      "metadata": {
        "id": "kGlt3_C9cmCl",
        "colab": {
          "base_uri": "https://localhost:8080/"
        },
        "outputId": "58b337ac-24da-4e7d-9655-9a4549a79e39"
      },
      "outputs": [
        {
          "output_type": "execute_result",
          "data": {
            "text/plain": [
              "['happy', 'contempt', 'disgust', 'surprise', 'fear', 'sadness', 'anger']"
            ]
          },
          "metadata": {},
          "execution_count": 3
        }
      ],
      "source": [
        "os.listdir('/content/drive/MyDrive/ckplus')"
      ],
      "id": "kGlt3_C9cmCl"
    },
    {
      "cell_type": "code",
      "execution_count": null,
      "metadata": {
        "id": "R7-9JHBsdUmA",
        "colab": {
          "base_uri": "https://localhost:8080/"
        },
        "outputId": "4e092cab-dc4d-4c93-ef09-c62d082dfa7c"
      },
      "outputs": [
        {
          "output_type": "stream",
          "name": "stdout",
          "text": [
            "Loaded the images of dataset-happy\n",
            "\n",
            "Loaded the images of dataset-contempt\n",
            "\n",
            "Loaded the images of dataset-disgust\n",
            "\n",
            "Loaded the images of dataset-surprise\n",
            "\n",
            "Loaded the images of dataset-fear\n",
            "\n",
            "Loaded the images of dataset-sadness\n",
            "\n",
            "Loaded the images of dataset-anger\n",
            "\n"
          ]
        },
        {
          "output_type": "execute_result",
          "data": {
            "text/plain": [
              "(981, 48, 48, 3)"
            ]
          },
          "metadata": {},
          "execution_count": 4
        }
      ],
      "source": [
        "data_path = '/content/drive/MyDrive/ckplus'\n",
        "data_dir_list = os.listdir(data_path)\n",
        "\n",
        "img_data_list=[]\n",
        "\n",
        "\n",
        "for dataset in data_dir_list:\n",
        "    img_list=os.listdir(data_path+'/'+ dataset)\n",
        "    print ('Loaded the images of dataset-'+'{}\\n'.format(dataset))\n",
        "    for img in img_list:\n",
        "        input_img=cv2.imread(data_path + '/'+ dataset + '/'+ img )\n",
        "        input_img_resize=cv2.resize(input_img,(48,48))\n",
        "        img_data_list.append(input_img_resize)\n",
        "        \n",
        "img_data = np.array(img_data_list)\n",
        "img_data = img_data.astype('float32')\n",
        "img_data = img_data/255\n",
        "img_data.shape"
      ],
      "id": "R7-9JHBsdUmA"
    },
    {
      "cell_type": "code",
      "execution_count": null,
      "metadata": {
        "id": "NUWwzkQpdb--",
        "colab": {
          "base_uri": "https://localhost:8080/"
        },
        "outputId": "4e052382-6372-4f4c-be61-f38aa8e356ac"
      },
      "outputs": [
        {
          "output_type": "execute_result",
          "data": {
            "text/plain": [
              "981"
            ]
          },
          "metadata": {},
          "execution_count": 5
        }
      ],
      "source": [
        "len(img_data)"
      ],
      "id": "NUWwzkQpdb--"
    },
    {
      "cell_type": "markdown",
      "metadata": {
        "id": "03c1fb5c"
      },
      "source": [
        "Read the Dataset\n",
        "\n"
      ],
      "id": "03c1fb5c"
    },
    {
      "cell_type": "code",
      "execution_count": null,
      "metadata": {
        "id": "729aa4e4"
      },
      "outputs": [],
      "source": [
        "# import the necessary packages\n",
        "import os\n",
        "\n",
        "image_types = (\".jpg\", \".jpeg\", \".png\", \".bmp\", \".tif\", \".tiff\")\n",
        "\n",
        "\n",
        "def list_images(basePath, contains=None):\n",
        "    return list_files(basePath, validExts=image_types, contains=contains)\n",
        "\n",
        "\n",
        "def list_files(basePath, validExts=None, contains=None):\n",
        "    # loop over the directory structure\n",
        "    for (rootDir, dirNames, filenames) in os.walk(basePath):\n",
        "        # loop over the filenames in the current directory\n",
        "        for filename in filenames:\n",
        "            # if the contains string is not none and the filename does not contain\n",
        "            # the supplied string, then ignore the file\n",
        "            if contains is not None and filename.find(contains) == -1:\n",
        "                continue\n",
        "\n",
        "            # determine the file extension of the current file\n",
        "            ext = filename[filename.rfind(\".\"):].lower()\n",
        "\n",
        "            # check to see if the file is an image and should be processed\n",
        "            if validExts is None or ext.endswith(validExts):\n",
        "                # construct the path to the image and yield it\n",
        "                imagePath = os.path.join(rootDir, filename)\n",
        "                yield imagePath\n",
        "\n",
        "imagePaths = list(list_images('/content/drive/MyDrive/ckplus'))\n"
      ],
      "id": "729aa4e4"
    },
    {
      "cell_type": "markdown",
      "metadata": {
        "id": "ae42f8e8"
      },
      "source": [
        "Read and convert images into gray-scale\n",
        "\n"
      ],
      "id": "ae42f8e8"
    },
    {
      "cell_type": "code",
      "execution_count": null,
      "metadata": {
        "id": "54ec80f4"
      },
      "outputs": [],
      "source": [
        "def colortogray(im):\n",
        "    image = cv2.imread(im)\n",
        "    imgray = cv2.cvtColor(image, cv2.COLOR_BGR2GRAY)\n",
        "    return imgray"
      ],
      "id": "54ec80f4"
    },
    {
      "cell_type": "code",
      "execution_count": null,
      "metadata": {
        "id": "Wg85TA-8d1TA"
      },
      "outputs": [],
      "source": [
        "DATADIR='/content/drive/MyDrive/ckplus'\n",
        "CATEGORIES = os.listdir(DATADIR)\n"
      ],
      "id": "Wg85TA-8d1TA"
    },
    {
      "cell_type": "markdown",
      "metadata": {
        "id": "b1d03aa7"
      },
      "source": [
        "Resize images with a fixed size(INTER LINEAR interpolation)\n",
        "\n"
      ],
      "id": "b1d03aa7"
    },
    {
      "cell_type": "code",
      "execution_count": null,
      "metadata": {
        "id": "e3849cb6"
      },
      "outputs": [],
      "source": [
        "def resizeImage(image, size):\n",
        "    return cv2.resize(image, (size,size))"
      ],
      "id": "e3849cb6"
    },
    {
      "cell_type": "markdown",
      "metadata": {
        "id": "c27691d4"
      },
      "source": [
        "Features extraction with HOG algorithm\n",
        "\n"
      ],
      "id": "c27691d4"
    },
    {
      "cell_type": "code",
      "execution_count": null,
      "metadata": {
        "id": "3aef56d3"
      },
      "outputs": [],
      "source": [
        "def feat_lab(imagePaths):\n",
        "\n",
        "    features = []\n",
        "    labels = []\n",
        "\n",
        "    for imagePath in imagePaths:\n",
        "        im = colortogray(imagePath)\n",
        "        im = resizeImage(im,64)\n",
        "        fd1 =  hog(im, orientations=7, pixels_per_cell=(8, 8),cells_per_block=(4, 4),block_norm= 'L2-Hys' ,transform_sqrt = False)\n",
        "\n",
        "        label = imagePath.split(os.path.sep)[-2]\n",
        "        labels.append(label)\n",
        "        features.append(fd1)\n",
        "\n",
        "    features = np.array(features)\n",
        "    labels = np.array(labels)\n",
        "    return features,labels"
      ],
      "id": "3aef56d3"
    },
    {
      "cell_type": "markdown",
      "metadata": {
        "id": "f081afda"
      },
      "source": [
        "Compute the features and obtain the lables using the previous functions\n",
        "\n"
      ],
      "id": "f081afda"
    },
    {
      "cell_type": "code",
      "execution_count": null,
      "metadata": {
        "id": "111f8bfd",
        "colab": {
          "base_uri": "https://localhost:8080/"
        },
        "outputId": "e3343c50-4aa4-4837-a3a9-e7266141c28d"
      },
      "outputs": [
        {
          "output_type": "stream",
          "name": "stdout",
          "text": [
            "[INFO] The number of features ...2800\n",
            "[INFO] The number of samples ...981\n"
          ]
        }
      ],
      "source": [
        "features,labels = feat_lab(imagePaths)\n",
        "\n",
        "\n",
        "print(\"[INFO] The number of features ...\" + str(features.shape[1]))\n",
        "\n",
        "print(\"[INFO] The number of samples ...\" + str(labels.shape[0]))"
      ],
      "id": "111f8bfd"
    },
    {
      "cell_type": "markdown",
      "metadata": {
        "id": "6b60f53a"
      },
      "source": [
        "The classifier"
      ],
      "id": "6b60f53a"
    },
    {
      "cell_type": "code",
      "execution_count": null,
      "metadata": {
        "id": "f9ed7f14"
      },
      "outputs": [],
      "source": [
        "svm_clf = SVC(kernel='rbf', gamma='scale', C= 10)"
      ],
      "id": "f9ed7f14"
    },
    {
      "cell_type": "code",
      "execution_count": null,
      "metadata": {
        "id": "65b79e36",
        "colab": {
          "base_uri": "https://localhost:8080/"
        },
        "outputId": "e775c84f-5fd1-4a2d-fb78-902123ee7e76"
      },
      "outputs": [
        {
          "output_type": "stream",
          "name": "stdout",
          "text": [
            "[INFO] The number of images used in training ...686\n",
            "[INFO] The number of images used in testing ...295\n",
            "Train Result:\n",
            "================================================\n",
            "Accuracy Score: 100.00%\n",
            "_______________________________________________\n",
            "CLASSIFICATION REPORT:\n",
            "              precision    recall  f1-score   support\n",
            "\n",
            "       anger       1.00      1.00      1.00        90\n",
            "    contempt       1.00      1.00      1.00        39\n",
            "     disgust       1.00      1.00      1.00       129\n",
            "        fear       1.00      1.00      1.00        52\n",
            "       happy       1.00      1.00      1.00       144\n",
            "     sadness       1.00      1.00      1.00        57\n",
            "    surprise       1.00      1.00      1.00       175\n",
            "\n",
            "    accuracy                           1.00       686\n",
            "   macro avg       1.00      1.00      1.00       686\n",
            "weighted avg       1.00      1.00      1.00       686\n",
            "\n",
            "_______________________________________________\n",
            "Confusion Matrix: \n",
            " [[ 90   0   0   0   0   0   0]\n",
            " [  0  39   0   0   0   0   0]\n",
            " [  0   0 129   0   0   0   0]\n",
            " [  0   0   0  52   0   0   0]\n",
            " [  0   0   0   0 144   0   0]\n",
            " [  0   0   0   0   0  57   0]\n",
            " [  0   0   0   0   0   0 175]]\n",
            "\n",
            "Test Result:\n",
            "================================================\n",
            "Accuracy Score: 98.64%\n",
            "_______________________________________________\n",
            "CLASSIFICATION REPORT:\n",
            "              precision    recall  f1-score   support\n",
            "\n",
            "       anger       0.98      0.93      0.95        45\n",
            "    contempt       1.00      1.00      1.00        15\n",
            "     disgust       0.94      1.00      0.97        48\n",
            "        fear       1.00      1.00      1.00        23\n",
            "       happy       1.00      1.00      1.00        63\n",
            "     sadness       1.00      1.00      1.00        27\n",
            "    surprise       1.00      0.99      0.99        74\n",
            "\n",
            "    accuracy                           0.99       295\n",
            "   macro avg       0.99      0.99      0.99       295\n",
            "weighted avg       0.99      0.99      0.99       295\n",
            "\n",
            "_______________________________________________\n",
            "Confusion Matrix: \n",
            " [[42  0  3  0  0  0  0]\n",
            " [ 0 15  0  0  0  0  0]\n",
            " [ 0  0 48  0  0  0  0]\n",
            " [ 0  0  0 23  0  0  0]\n",
            " [ 0  0  0  0 63  0  0]\n",
            " [ 0  0  0  0  0 27  0]\n",
            " [ 1  0  0  0  0  0 73]]\n",
            "\n"
          ]
        }
      ],
      "source": [
        "from sklearn.metrics import accuracy_score, confusion_matrix, classification_report\n",
        "\n",
        "def print_score(clf, X_train, y_train, X_test, y_test, train=True):\n",
        "    if train:\n",
        "        pred = clf.predict(X_train)\n",
        "        clf_report = classification_report(y_train, pred)\n",
        "        print(\"Train Result:\\n================================================\")\n",
        "        print(f\"Accuracy Score: {accuracy_score(y_train, pred) * 100:.2f}%\")\n",
        "        print(\"_______________________________________________\")\n",
        "        print(f\"CLASSIFICATION REPORT:\\n{clf_report}\")\n",
        "        print(\"_______________________________________________\")\n",
        "        print(f\"Confusion Matrix: \\n {confusion_matrix(y_train, pred)}\\n\")\n",
        "        \n",
        "    elif train==False:\n",
        "        pred = clf.predict(X_test)\n",
        "        clf_report = classification_report(y_test, pred)\n",
        "        print(\"Test Result:\\n================================================\")        \n",
        "        print(f\"Accuracy Score: {accuracy_score(y_test, pred) * 100:.2f}%\")\n",
        "        print(\"_______________________________________________\")\n",
        "        print(f\"CLASSIFICATION REPORT:\\n{clf_report}\")\n",
        "        print(\"_______________________________________________\")\n",
        "        print(f\"Confusion Matrix: \\n {confusion_matrix(y_test, pred)}\\n\")\n",
        "\n",
        "################################################################################\n",
        "################################################################################\n",
        "\n",
        "\n",
        "R =random.randint(1,88)\n",
        "X_train, X_test, y_train, y_test = train_test_split(features, labels, test_size= 0.3,random_state=40\n",
        "                                                   )\n",
        "\n",
        "print(\"[INFO] The number of images used in training ...\" + str(X_train.shape[0]))\n",
        "print(\"[INFO] The number of images used in testing ...\" + str(X_test.shape[0]))\n",
        "\n",
        "\n",
        "svm_clf.fit(X_train, y_train)\n",
        "\n",
        "print_score(svm_clf, X_train, y_train, X_test, y_test, train=True)\n",
        "print_score(svm_clf, X_train, y_train, X_test, y_test, train=False)\n"
      ],
      "id": "65b79e36"
    },
    {
      "cell_type": "markdown",
      "metadata": {
        "id": "8fa45a81"
      },
      "source": [
        "**Cross-validation accuracy**"
      ],
      "id": "8fa45a81"
    },
    {
      "cell_type": "markdown",
      "metadata": {
        "id": "1aa6f380"
      },
      "source": [
        "*3-FOLDS*"
      ],
      "id": "1aa6f380"
    },
    {
      "cell_type": "code",
      "execution_count": null,
      "metadata": {
        "id": "c77f694e",
        "colab": {
          "base_uri": "https://localhost:8080/"
        },
        "outputId": "55cb7475-8acf-4f58-cbd3-02f231dd3db0"
      },
      "outputs": [
        {
          "output_type": "stream",
          "name": "stdout",
          "text": [
            "SVM MEAN  Accuracy:  99.18%\n",
            "Standard deviation:  0.144%\n"
          ]
        }
      ],
      "source": [
        "cv = KFold(n_splits=3, random_state=1, shuffle=True)\n",
        "# evaluate model\n",
        "scores = cross_val_score(svm_clf, features, labels, scoring='accuracy', cv=cv, n_jobs=-1)\n",
        "# Report performance\n",
        "\n",
        "print('SVM MEAN  Accuracy: ',str(np.mean(scores)*100)[:5] + '%')\n",
        "print('Standard deviation: ',str(np.std(scores)*100)[:5] + '%')"
      ],
      "id": "c77f694e"
    },
    {
      "cell_type": "markdown",
      "metadata": {
        "id": "3521401b"
      },
      "source": [
        "*5-FOLDS*"
      ],
      "id": "3521401b"
    },
    {
      "cell_type": "code",
      "execution_count": null,
      "metadata": {
        "id": "53774890",
        "colab": {
          "base_uri": "https://localhost:8080/"
        },
        "outputId": "d84f91a0-d69b-4d15-c305-13ce90620141"
      },
      "outputs": [
        {
          "output_type": "stream",
          "name": "stdout",
          "text": [
            "SVM MEAN  Accuracy:  98.97%\n",
            "Standard deviation:  0.968%\n"
          ]
        }
      ],
      "source": [
        "cv = KFold(n_splits=5, random_state=1, shuffle=True)\n",
        "# evaluate model\n",
        "scores = cross_val_score(svm_clf, features, labels, scoring='accuracy', cv=cv, n_jobs=-1)\n",
        "# Report performance\n",
        "\n",
        "print('SVM MEAN  Accuracy: ',str(np.mean(scores)*100)[:5] + '%')\n",
        "print('Standard deviation: ',str(np.std(scores)*100)[:5] + '%')"
      ],
      "id": "53774890"
    },
    {
      "cell_type": "markdown",
      "metadata": {
        "id": "4830c0ac"
      },
      "source": [
        "10-FOLDS"
      ],
      "id": "4830c0ac"
    },
    {
      "cell_type": "code",
      "execution_count": null,
      "metadata": {
        "id": "9387a608",
        "colab": {
          "base_uri": "https://localhost:8080/"
        },
        "outputId": "eb418c27-6ec0-4ed2-c20e-3a5edbf03b70"
      },
      "outputs": [
        {
          "output_type": "stream",
          "name": "stdout",
          "text": [
            "SVM MEAN  Accuracy:  99.69%\n",
            "Standard deviation:  0.918%\n"
          ]
        }
      ],
      "source": [
        "cv = KFold(n_splits=10, random_state=1, shuffle=True)\n",
        "# evaluate model\n",
        "scores = cross_val_score(svm_clf, features, labels, scoring='accuracy', cv=cv, n_jobs=-1)\n",
        "# Report performance\n",
        "\n",
        "print('SVM MEAN  Accuracy: ',str(np.mean(scores)*100)[:5] + '%')\n",
        "print('Standard deviation: ',str(np.std(scores)*100)[:5] + '%')"
      ],
      "id": "9387a608"
    },
    {
      "cell_type": "code",
      "execution_count": null,
      "metadata": {
        "id": "Yp7Hi__cV06J"
      },
      "outputs": [],
      "source": [
        "from sklearn.ensemble import VotingClassifier"
      ],
      "id": "Yp7Hi__cV06J"
    },
    {
      "cell_type": "code",
      "execution_count": null,
      "metadata": {
        "id": "HR8BCv5xisSn",
        "colab": {
          "base_uri": "https://localhost:8080/"
        },
        "outputId": "87c9f6fc-4f7c-4a98-8540-42cf1e57a920"
      },
      "outputs": [
        {
          "output_type": "stream",
          "name": "stdout",
          "text": [
            "[INFO] The number of images used in training ...686\n",
            "[INFO] The number of images used in testing ...295\n"
          ]
        }
      ],
      "source": [
        "\n",
        "from sklearn.tree import DecisionTreeClassifier\n",
        "from sklearn.neighbors import KNeighborsClassifier\n",
        "from sklearn.svm import SVC\n",
        "from itertools import product\n",
        "from sklearn.ensemble import VotingClassifier\n",
        "\n",
        "X = features\n",
        "y = labels\n",
        "\n",
        "R =random.randint(1,88)\n",
        "X_train, X_test, y_train, y_test = train_test_split(features, labels, test_size= 0.3,random_state=40)\n",
        "\n",
        "print(\"[INFO] The number of images used in training ...\" + str(X_train.shape[0]))\n",
        "print(\"[INFO] The number of images used in testing ...\" + str(X_test.shape[0]))\n",
        "\n",
        "\n",
        "\n",
        " # Training classifiers\n",
        "#clf1 = DecisionTreeClassifier(max_depth=4)\n",
        "clf1 = KNeighborsClassifier(n_neighbors=7)\n",
        "clf3 = SVC(kernel='rbf', probability=True)\n",
        "eclf = VotingClassifier(estimators=[('dt', clf1), ('knn', clf2), ('svc', clf3)], voting='soft', weights=[2, 1, 2])\n",
        "\n",
        "clf1 = clf1.fit(X_train, y_train)\n",
        "#clf2 = clf2.fit(X_train, y_train)\n",
        "clf3 = clf3.fit(X_train, y_train)\n",
        "eclf = eclf.fit(X_train, y_train)\n",
        "\n"
      ],
      "id": "HR8BCv5xisSn"
    },
    {
      "cell_type": "code",
      "execution_count": null,
      "metadata": {
        "id": "ZY5cRCxepb3N"
      },
      "outputs": [],
      "source": [
        "y_pred = eclf.predict(X_test)"
      ],
      "id": "ZY5cRCxepb3N"
    },
    {
      "cell_type": "code",
      "execution_count": null,
      "metadata": {
        "id": "vvPYUNRdkPiF",
        "colab": {
          "base_uri": "https://localhost:8080/"
        },
        "outputId": "a4d6e75e-9bdc-4efa-a996-0f30f98ddbb6"
      },
      "outputs": [
        {
          "output_type": "stream",
          "name": "stdout",
          "text": [
            "Train Result:\n",
            "================================================\n",
            "Accuracy Score: 99.56%\n",
            "_______________________________________________\n",
            "CLASSIFICATION REPORT:\n",
            "              precision    recall  f1-score   support\n",
            "\n",
            "       anger       0.99      0.98      0.98        90\n",
            "    contempt       1.00      1.00      1.00        39\n",
            "     disgust       1.00      1.00      1.00       129\n",
            "        fear       1.00      1.00      1.00        52\n",
            "       happy       1.00      1.00      1.00       144\n",
            "     sadness       0.97      0.98      0.97        57\n",
            "    surprise       1.00      1.00      1.00       175\n",
            "\n",
            "    accuracy                           1.00       686\n",
            "   macro avg       0.99      0.99      0.99       686\n",
            "weighted avg       1.00      1.00      1.00       686\n",
            "\n",
            "_______________________________________________\n",
            "Confusion Matrix: \n",
            " [[ 88   0   0   0   0   2   0]\n",
            " [  0  39   0   0   0   0   0]\n",
            " [  0   0 129   0   0   0   0]\n",
            " [  0   0   0  52   0   0   0]\n",
            " [  0   0   0   0 144   0   0]\n",
            " [  1   0   0   0   0  56   0]\n",
            " [  0   0   0   0   0   0 175]]\n",
            "\n"
          ]
        }
      ],
      "source": [
        "print_score(eclf, X_train, y_train, X_test, y_test, train=True)"
      ],
      "id": "vvPYUNRdkPiF"
    },
    {
      "cell_type": "code",
      "execution_count": null,
      "metadata": {
        "id": "JZuFBuaaqP6w",
        "colab": {
          "base_uri": "https://localhost:8080/"
        },
        "outputId": "f9ff884f-bd27-47c2-e3a1-b51d9441126f"
      },
      "outputs": [
        {
          "output_type": "execute_result",
          "data": {
            "text/plain": [
              "array(['disgust', 'contempt', 'surprise', 'happy', 'happy', 'disgust',\n",
              "       'anger'], dtype='<U8')"
            ]
          },
          "metadata": {},
          "execution_count": 20
        }
      ],
      "source": [
        "y_pred[:7]"
      ],
      "id": "JZuFBuaaqP6w"
    },
    {
      "cell_type": "code",
      "execution_count": null,
      "metadata": {
        "id": "l7SbSTlRisdJ",
        "colab": {
          "base_uri": "https://localhost:8080/"
        },
        "outputId": "2187f5b7-f764-46b3-ca8c-87f3cf6c9809"
      },
      "outputs": [
        {
          "output_type": "stream",
          "name": "stdout",
          "text": [
            "Train Result:\n",
            "================================================\n",
            "Accuracy Score: 80.32%\n",
            "_______________________________________________\n",
            "CLASSIFICATION REPORT:\n",
            "              precision    recall  f1-score   support\n",
            "\n",
            "       anger       0.66      0.79      0.72        90\n",
            "    contempt       0.76      0.82      0.79        39\n",
            "     disgust       0.87      0.82      0.84       129\n",
            "        fear       0.56      0.44      0.49        52\n",
            "       happy       0.83      0.89      0.86       144\n",
            "     sadness       0.66      0.51      0.57        57\n",
            "    surprise       0.92      0.93      0.92       175\n",
            "\n",
            "    accuracy                           0.80       686\n",
            "   macro avg       0.75      0.74      0.74       686\n",
            "weighted avg       0.80      0.80      0.80       686\n",
            "\n",
            "_______________________________________________\n",
            "Confusion Matrix: \n",
            " [[ 71   1   5   6   3   3   1]\n",
            " [  3  32   0   0   1   3   0]\n",
            " [  5   0 106   2  11   3   2]\n",
            " [  5   5   4  23   4   2   9]\n",
            " [  6   2   5   3 128   0   0]\n",
            " [ 13   2   2   5   4  29   2]\n",
            " [  4   0   0   2   3   4 162]]\n",
            "\n"
          ]
        }
      ],
      "source": [
        "print_score(clf1, X_train, y_train, X_test, y_test, train=True)"
      ],
      "id": "l7SbSTlRisdJ"
    },
    {
      "cell_type": "code",
      "execution_count": null,
      "metadata": {
        "id": "Sj0iTdXLVhEk",
        "colab": {
          "base_uri": "https://localhost:8080/"
        },
        "outputId": "2f46362a-012d-4885-c610-b4b1eb3b1025"
      },
      "outputs": [
        {
          "output_type": "stream",
          "name": "stdout",
          "text": [
            "Train Result:\n",
            "================================================\n",
            "Accuracy Score: 99.27%\n",
            "_______________________________________________\n",
            "CLASSIFICATION REPORT:\n",
            "              precision    recall  f1-score   support\n",
            "\n",
            "       anger       0.99      0.98      0.98        90\n",
            "    contempt       1.00      0.97      0.99        39\n",
            "     disgust       1.00      1.00      1.00       129\n",
            "        fear       1.00      0.98      0.99        52\n",
            "       happy       0.99      1.00      0.99       144\n",
            "     sadness       0.97      0.98      0.97        57\n",
            "    surprise       1.00      1.00      1.00       175\n",
            "\n",
            "    accuracy                           0.99       686\n",
            "   macro avg       0.99      0.99      0.99       686\n",
            "weighted avg       0.99      0.99      0.99       686\n",
            "\n",
            "_______________________________________________\n",
            "Confusion Matrix: \n",
            " [[ 88   0   0   0   0   2   0]\n",
            " [  0  38   0   0   1   0   0]\n",
            " [  0   0 129   0   0   0   0]\n",
            " [  0   0   0  51   1   0   0]\n",
            " [  0   0   0   0 144   0   0]\n",
            " [  1   0   0   0   0  56   0]\n",
            " [  0   0   0   0   0   0 175]]\n",
            "\n"
          ]
        }
      ],
      "source": [
        "print_score(clf3, X_train, y_train, X_test, y_test, train=True)"
      ],
      "id": "Sj0iTdXLVhEk"
    }
  ],
  "metadata": {
    "colab": {
      "collapsed_sections": [],
      "name": "svm_REFER.ipynb",
      "provenance": []
    },
    "kernelspec": {
      "display_name": "Python 3",
      "language": "python",
      "name": "python3"
    },
    "language_info": {
      "codemirror_mode": {
        "name": "ipython",
        "version": 3
      },
      "file_extension": ".py",
      "mimetype": "text/x-python",
      "name": "python",
      "nbconvert_exporter": "python",
      "pygments_lexer": "ipython3",
      "version": "3.7.12"
    },
    "papermill": {
      "default_parameters": {},
      "duration": 39.114295,
      "end_time": "2022-02-23T11:22:46.629032",
      "environment_variables": {},
      "exception": null,
      "input_path": "__notebook__.ipynb",
      "output_path": "__notebook__.ipynb",
      "parameters": {},
      "start_time": "2022-02-23T11:22:07.514737",
      "version": "2.3.3"
    }
  },
  "nbformat": 4,
  "nbformat_minor": 5
}